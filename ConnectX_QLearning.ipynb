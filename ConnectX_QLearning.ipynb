{
  "nbformat": 4,
  "nbformat_minor": 0,
  "metadata": {
    "colab": {
      "name": "ConnectX_QLearning.ipynb",
      "provenance": [],
      "toc_visible": true
    },
    "kernelspec": {
      "name": "python3",
      "display_name": "Python 3"
    },
    "accelerator": "GPU"
  },
  "cells": [
    {
      "cell_type": "code",
      "metadata": {
        "id": "M9V9dHULD7wf",
        "colab_type": "code",
        "colab": {}
      },
      "source": [
        "!pip install 'kaggle-environments>=0.1.6' > /dev/null 2>&1"
      ],
      "execution_count": 0,
      "outputs": []
    },
    {
      "cell_type": "code",
      "metadata": {
        "id": "nGMtnF-GESRP",
        "colab_type": "code",
        "colab": {
          "base_uri": "https://localhost:8080/",
          "height": 34
        },
        "outputId": "c5e177f4-608b-4833-95b0-c398d70eb9a3"
      },
      "source": [
        "!pip install tqdm"
      ],
      "execution_count": 3,
      "outputs": [
        {
          "output_type": "stream",
          "text": [
            "Requirement already satisfied: tqdm in /usr/local/lib/python3.6/dist-packages (4.28.1)\n"
          ],
          "name": "stdout"
        }
      ]
    },
    {
      "cell_type": "code",
      "metadata": {
        "id": "hZ_OUBddEI0g",
        "colab_type": "code",
        "colab": {}
      },
      "source": [
        "#Importing the libraries\n",
        "import numpy as np\n",
        "import gym\n",
        "import random\n",
        "import matplotlib.pyplot as plt\n",
        "from random import choice\n",
        "from tqdm import tqdm\n",
        "from kaggle_environments import evaluate, make"
      ],
      "execution_count": 0,
      "outputs": []
    },
    {
      "cell_type": "code",
      "metadata": {
        "id": "XvvaxDj4EZuO",
        "colab_type": "code",
        "colab": {}
      },
      "source": [
        "class ConnectX(gym.Env):\n",
        "    def __init__(self, switch_prob=0.5):\n",
        "        self.env = make('connectx', debug=True)\n",
        "        self.pair = [None, 'negamax']\n",
        "        self.trainer = self.env.train(self.pair)\n",
        "        self.switch_prob = switch_prob\n",
        "        \n",
        "        # Define required gym fields (examples):\n",
        "        config = self.env.configuration\n",
        "        self.action_space = gym.spaces.Discrete(config.columns)\n",
        "        self.observation_space = gym.spaces.Discrete(config.columns * config.rows)\n",
        "\n",
        "    def switch_trainer(self):\n",
        "        self.pair = self.pair[::-1]\n",
        "        self.trainer = self.env.train(self.pair)\n",
        "\n",
        "    def step(self, action):\n",
        "        return self.trainer.step(action)\n",
        "    \n",
        "    def reset(self):\n",
        "        if random.uniform(0, 1) < self.switch_prob:\n",
        "            self.switch_trainer()\n",
        "        return self.trainer.reset()\n",
        "    \n",
        "    def render(self, **kwargs):\n",
        "        return self.env.render(**kwargs)"
      ],
      "execution_count": 0,
      "outputs": []
    },
    {
      "cell_type": "code",
      "metadata": {
        "id": "SshUbCh5E2tn",
        "colab_type": "code",
        "colab": {}
      },
      "source": [
        "class QTable:\n",
        "    def __init__(self, action_space):\n",
        "        self.table = dict()\n",
        "        self.action_space = action_space\n",
        "        \n",
        "    def add_item(self, state_key):\n",
        "        self.table[state_key] = list(np.zeros(self.action_space.n))\n",
        "        \n",
        "    def __call__(self, state):\n",
        "        board = state.board[:] # Get a copy\n",
        "        board.append(state.mark)\n",
        "        state_key = np.array(board).astype(str)\n",
        "        state_key = hex(int(''.join(state_key), 3))[2:]\n",
        "        if state_key not in self.table.keys():\n",
        "            self.add_item(state_key)\n",
        "        \n",
        "        return self.table[state_key]"
      ],
      "execution_count": 0,
      "outputs": []
    },
    {
      "cell_type": "code",
      "metadata": {
        "id": "8WbsrbylE8F9",
        "colab_type": "code",
        "colab": {}
      },
      "source": [
        "env = ConnectX()"
      ],
      "execution_count": 0,
      "outputs": []
    },
    {
      "cell_type": "code",
      "metadata": {
        "id": "ZE1aqT-JFCyi",
        "colab_type": "code",
        "colab": {}
      },
      "source": [
        "#Configuring the hyperparameters\n",
        "alpha = 0.1\n",
        "gamma = 0.6\n",
        "epsilon = 0.99\n",
        "min_epsilon = 0.1\n",
        "\n",
        "episodes = 10000\n",
        "\n",
        "alpha_decay_step = 1000\n",
        "alpha_decay_rate = 0.9\n",
        "epsilon_decay_rate = 0.9999"
      ],
      "execution_count": 0,
      "outputs": []
    },
    {
      "cell_type": "code",
      "metadata": {
        "id": "BKY9rYVGFJcJ",
        "colab_type": "code",
        "colab": {}
      },
      "source": [
        "q_table = QTable(env.action_space)\n",
        "\n",
        "all_epochs = []\n",
        "all_total_rewards = []\n",
        "all_avg_rewards = [] # Last 100 steps\n",
        "all_qtable_rows = []\n",
        "all_epsilons = []"
      ],
      "execution_count": 0,
      "outputs": []
    },
    {
      "cell_type": "code",
      "metadata": {
        "id": "QLIeGrjBFO-I",
        "colab_type": "code",
        "colab": {
          "base_uri": "https://localhost:8080/",
          "height": 34
        },
        "outputId": "75d8a468-40dc-48a9-b19d-8ab96b53480d"
      },
      "source": [
        "for i in tqdm(range(episodes)):\n",
        "    state = env.reset()\n",
        "\n",
        "    epsilon = max(min_epsilon, epsilon * epsilon_decay_rate)\n",
        "    epochs, total_rewards = 0, 0\n",
        "    done = False\n",
        "    \n",
        "    while not done:\n",
        "        if random.uniform(0, 1) < epsilon:\n",
        "            action = choice([c for c in range(env.action_space.n) if state.board[c] == 0])\n",
        "        else:\n",
        "            row = q_table(state)[:]\n",
        "            selected_items = []\n",
        "            for j in range(env.action_space.n):\n",
        "                if state.board[j] == 0:\n",
        "                    selected_items.append(row[j])\n",
        "                else:\n",
        "                    selected_items.append(-1e7)\n",
        "            action = int(np.argmax(selected_items))\n",
        "\n",
        "        next_state, reward, done, info = env.step(action)\n",
        "\n",
        "        # Apply new rules\n",
        "        if done:\n",
        "            if reward == 1: # Won\n",
        "                reward = 20\n",
        "            elif reward == 0: # Lost\n",
        "                reward = -20\n",
        "            else: # Draw\n",
        "                reward = 10\n",
        "        else:\n",
        "            reward = -0.05 # Try to prevent the agent from taking a long move\n",
        "\n",
        "        old_value = q_table(state)[action]\n",
        "        next_max = np.max(q_table(next_state))\n",
        "        \n",
        "        # Update Q-value\n",
        "        new_value = (1 - alpha) * old_value + alpha * (reward + gamma * next_max)\n",
        "        q_table(state)[action] = new_value\n",
        "\n",
        "        state = next_state\n",
        "        epochs += 1\n",
        "        total_rewards += reward\n",
        "\n",
        "\n",
        "    all_epochs.append(epochs)\n",
        "    all_total_rewards.append(total_rewards)\n",
        "    avg_rewards = np.mean(all_total_rewards[max(0, i-100):(i+1)])\n",
        "    all_avg_rewards.append(avg_rewards)\n",
        "    all_qtable_rows.append(len(q_table.table))\n",
        "    all_epsilons.append(epsilon)\n",
        "\n",
        "    if (i+1) % alpha_decay_step == 0:\n",
        "        alpha *= alpha_decay_rate\n"
      ],
      "execution_count": 12,
      "outputs": [
        {
          "output_type": "stream",
          "text": [
            "100%|██████████| 10000/10000 [2:07:06<00:00,  1.23it/s]\n"
          ],
          "name": "stderr"
        }
      ]
    },
    {
      "cell_type": "code",
      "metadata": {
        "id": "ZpPMO63djBBu",
        "colab_type": "code",
        "colab": {
          "base_uri": "https://localhost:8080/",
          "height": 34
        },
        "outputId": "28885009-8353-45cc-b1ed-891a2f2c8f1a"
      },
      "source": [
        "len(q_table.table)"
      ],
      "execution_count": 13,
      "outputs": [
        {
          "output_type": "execute_result",
          "data": {
            "text/plain": [
              "40685"
            ]
          },
          "metadata": {
            "tags": []
          },
          "execution_count": 13
        }
      ]
    },
    {
      "cell_type": "code",
      "metadata": {
        "id": "iIsHZ1PpjFtR",
        "colab_type": "code",
        "colab": {
          "base_uri": "https://localhost:8080/",
          "height": 279
        },
        "outputId": "39fea2dc-3f95-4ad4-afec-1660234d9df6"
      },
      "source": [
        "plt.plot(all_avg_rewards)\n",
        "plt.xlabel('Episode')\n",
        "plt.ylabel('Avg rewards (100)')\n",
        "plt.show()"
      ],
      "execution_count": 14,
      "outputs": [
        {
          "output_type": "display_data",
          "data": {
            "image/png": "[encoded data removed]",
            "text/plain": [
              "<Figure size 432x288 with 1 Axes>"
            ]
          },
          "metadata": {
            "tags": []
          }
        }
      ]
    },
    {
      "cell_type": "code",
      "metadata": {
        "id": "s6U_nP3YjJxF",
        "colab_type": "code",
        "colab": {
          "base_uri": "https://localhost:8080/",
          "height": 279
        },
        "outputId": "7a85bdfa-0383-4a0b-a472-c1e78c15de8b"
      },
      "source": [
        "plt.plot(all_qtable_rows)\n",
        "plt.xlabel('Episode')\n",
        "plt.ylabel('Explored states')\n",
        "plt.show()"
      ],
      "execution_count": 15,
      "outputs": [
        {
          "output_type": "display_data",
          "data": {
            "image/png": "[encoded data removed]",
            "text/plain": [
              "<Figure size 432x288 with 1 Axes>"
            ]
          },
          "metadata": {
            "tags": []
          }
        }
      ]
    },
    {
      "cell_type": "code",
      "metadata": {
        "id": "sPhG1gBRjPE0",
        "colab_type": "code",
        "colab": {
          "base_uri": "https://localhost:8080/",
          "height": 279
        },
        "outputId": "f1703dbd-2f01-429a-cec7-68f0d158098a"
      },
      "source": [
        "plt.plot(all_epsilons)\n",
        "plt.xlabel('Episode')\n",
        "plt.ylabel('Epsilon')\n",
        "plt.show()"
      ],
      "execution_count": 16,
      "outputs": [
        {
          "output_type": "display_data",
          "data": {
            "image/png": "[encoded data removed]",
            "text/plain": [
              "<Figure size 432x288 with 1 Axes>"
            ]
          },
          "metadata": {
            "tags": []
          }
        }
      ]
    },
    {
      "cell_type": "code",
      "metadata": {
        "id": "6j7YugVLjS8-",
        "colab_type": "code",
        "colab": {}
      },
      "source": [
        "tmp_dict_q_table = q_table.table.copy()\n",
        "dict_q_table = dict()\n",
        "\n",
        "for k in tmp_dict_q_table:\n",
        "    if np.count_nonzero(tmp_dict_q_table[k]) > 0:\n",
        "        dict_q_table[k] = int(np.argmax(tmp_dict_q_table[k]))"
      ],
      "execution_count": 0,
      "outputs": []
    },
    {
      "cell_type": "code",
      "metadata": {
        "id": "esSy5pIXjWW4",
        "colab_type": "code",
        "colab": {}
      },
      "source": [
        "my_agent = '''def my_agent(observation, configuration):\n",
        "    from random import choice\n",
        "\n",
        "    q_table = ''' \\\n",
        "    + str(dict_q_table).replace(' ', '') \\\n",
        "    + '''\n",
        "\n",
        "    board = observation.board[:]\n",
        "    board.append(observation.mark)\n",
        "    state_key = list(map(str, board))\n",
        "    state_key = hex(int(''.join(state_key), 3))[2:]\n",
        "\n",
        "    if state_key not in q_table.keys():\n",
        "        return choice([c for c in range(configuration.columns) if observation.board[c] == 0])\n",
        "\n",
        "    action = q_table[state_key]\n",
        "\n",
        "    if observation.board[action] != 0:\n",
        "        return choice([c for c in range(configuration.columns) if observation.board[c] == 0])\n",
        "\n",
        "    return action\n",
        "    '''"
      ],
      "execution_count": 0,
      "outputs": []
    },
    {
      "cell_type": "code",
      "metadata": {
        "id": "sLRgLN6ijc4W",
        "colab_type": "code",
        "colab": {}
      },
      "source": [
        "with open('submission.py', 'w') as f:\n",
        "    f.write(my_agent)"
      ],
      "execution_count": 0,
      "outputs": []
    },
    {
      "cell_type": "code",
      "metadata": {
        "id": "rGjZzqtzjf-8",
        "colab_type": "code",
        "colab": {}
      },
      "source": [
        "from submission import my_agent"
      ],
      "execution_count": 0,
      "outputs": []
    },
    {
      "cell_type": "code",
      "metadata": {
        "id": "q77ew2ZYjqSZ",
        "colab_type": "code",
        "colab": {}
      },
      "source": [
        "def mean_reward(rewards):\n",
        "    return sum(r[0] for r in rewards) / sum(r[0] + r[1] for r in rewards)\n"
      ],
      "execution_count": 0,
      "outputs": []
    },
    {
      "cell_type": "code",
      "metadata": {
        "id": "m8kdlu9kjtlg",
        "colab_type": "code",
        "colab": {
          "base_uri": "https://localhost:8080/",
          "height": 51
        },
        "outputId": "b3e29886-6af6-47b0-b804-33e9d2689bfc"
      },
      "source": [
        "# Run multiple episodes to estimate agent's performance.\n",
        "print(\"My Agent vs Random Agent:\", mean_reward(evaluate(\"connectx\", [my_agent, \"random\"], num_episodes=10)))\n",
        "print(\"My Agent vs Negamax Agent:\", mean_reward(evaluate(\"connectx\", [my_agent, \"negamax\"], num_episodes=10)))"
      ],
      "execution_count": 23,
      "outputs": [
        {
          "output_type": "stream",
          "text": [
            "My Agent vs Random Agent: 0.6\n",
            "My Agent vs Negamax Agent: 0.0\n"
          ],
          "name": "stdout"
        }
      ]
    }
  ]
}