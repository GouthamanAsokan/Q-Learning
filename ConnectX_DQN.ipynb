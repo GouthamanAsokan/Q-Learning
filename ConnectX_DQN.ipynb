{
  "nbformat": 4,
  "nbformat_minor": 0,
  "metadata": {
    "colab": {
      "name": "ConnectX_DQN.ipynb",
      "provenance": []
    },
    "kernelspec": {
      "name": "python3",
      "display_name": "Python 3"
    },
    "accelerator": "GPU"
  },
  "cells": [
    {
      "cell_type": "code",
      "metadata": {
        "id": "Bjw8ewmtgz44",
        "colab_type": "code",
        "colab": {}
      },
      "source": [
        "!pip install 'kaggle-environments>=0.1.6' > /dev/null 2>&1"
      ],
      "execution_count": 0,
      "outputs": []
    },
    {
      "cell_type": "code",
      "metadata": {
        "id": "weArdmVLg98X",
        "colab_type": "code",
        "colab": {}
      },
      "source": [
        "import numpy as np\n",
        "import gym\n",
        "import torch\n",
        "import torch.nn as nn\n",
        "import torch.optim as optim\n",
        "import matplotlib.pyplot as plt\n",
        "from tqdm import tqdm\n",
        "from kaggle_environments import evaluate, make"
      ],
      "execution_count": 0,
      "outputs": []
    },
    {
      "cell_type": "code",
      "metadata": {
        "id": "NsTTZv3mhBzV",
        "colab_type": "code",
        "colab": {}
      },
      "source": [
        "class ConnectX(gym.Env):\n",
        "    def __init__(self, switch_prob=0.5):\n",
        "        self.env = make('connectx', debug=False)\n",
        "        self.pair = [None, 'negamax']\n",
        "        self.trainer = self.env.train(self.pair)\n",
        "        self.switch_prob = switch_prob\n",
        "\n",
        "        # Define required gym fields (examples):\n",
        "        config = self.env.configuration\n",
        "        self.action_space = gym.spaces.Discrete(config.columns)\n",
        "        self.observation_space = gym.spaces.Discrete(config.columns * config.rows)\n",
        "\n",
        "    def switch_trainer(self):\n",
        "        self.pair = self.pair[::-1]\n",
        "        self.trainer = self.env.train(self.pair)\n",
        "\n",
        "    def step(self, action):\n",
        "        return self.trainer.step(action)\n",
        "    \n",
        "    def reset(self):\n",
        "        if np.random.random() < self.switch_prob:\n",
        "            self.switch_trainer()\n",
        "        return self.trainer.reset()\n",
        "    \n",
        "    def render(self, **kwargs):\n",
        "        return self.env.render(**kwargs)\n",
        "    \n",
        "    \n",
        "class DeepModel(nn.Module):\n",
        "    def __init__(self, num_states, hidden_units, num_actions):\n",
        "        super(DeepModel, self).__init__()\n",
        "        self.hidden_layers = []\n",
        "        for i in range(len(hidden_units)):\n",
        "            if i == 0:\n",
        "                self.hidden_layers.append(\n",
        "                    nn.Linear(num_states, hidden_units[i])\n",
        "                )\n",
        "            else:\n",
        "                self.hidden_layers.append(\n",
        "                    nn.Linear(hidden_units[i-1], hidden_units[i])\n",
        "                )\n",
        "        self.output_layer = nn.Linear(hidden_units[-1], num_actions)\n",
        "\n",
        "    def forward(self, x):\n",
        "        for layer in self.hidden_layers:\n",
        "            x = torch.sigmoid(layer(x))\n",
        "        x = self.output_layer(x)\n",
        "\n",
        "        return x\n",
        "\n",
        "\n",
        "class DQN:\n",
        "    def __init__(self, num_states, num_actions, hidden_units, gamma, max_experiences, min_experiences, batch_size, lr):\n",
        "        self.num_actions = num_actions\n",
        "        self.batch_size = batch_size\n",
        "        self.gamma = gamma\n",
        "        self.model = DeepModel(num_states, hidden_units, num_actions)\n",
        "        self.optimizer = optim.Adam(self.model.parameters(), lr=lr)\n",
        "        self.criterion = nn.MSELoss()\n",
        "        self.experience = {'s': [], 'a': [], 'r': [], 's2': [], 'done': []} # The buffer\n",
        "        self.max_experiences = max_experiences\n",
        "        self.min_experiences = min_experiences\n",
        "\n",
        "    def predict(self, inputs):\n",
        "        return self.model(torch.from_numpy(inputs).float())\n",
        "\n",
        "    def train(self, TargetNet):\n",
        "        if len(self.experience['s']) < self.min_experiences:\n",
        "            # Only start the training process when we have enough experiences in the buffer\n",
        "            return 0\n",
        "\n",
        "        # Randomly select n experience in the buffer, n is batch-size\n",
        "        ids = np.random.randint(low=0, high=len(self.experience['s']), size=self.batch_size)\n",
        "        states = np.asarray([self.preprocess(self.experience['s'][i]) for i in ids])\n",
        "        actions = np.asarray([self.experience['a'][i] for i in ids])\n",
        "        rewards = np.asarray([self.experience['r'][i] for i in ids])\n",
        "\n",
        "        # Prepare labels for training process\n",
        "        states_next = np.asarray([self.preprocess(self.experience['s2'][i]) for i in ids])\n",
        "        dones = np.asarray([self.experience['done'][i] for i in ids])\n",
        "        value_next = np.max(TargetNet.predict(states_next).detach().numpy(), axis=1)\n",
        "        actual_values = np.where(dones, rewards, rewards+self.gamma*value_next)\n",
        "\n",
        "        actions = np.expand_dims(actions, axis=1)\n",
        "        actions_one_hot = torch.FloatTensor(self.batch_size, self.num_actions).zero_()\n",
        "        actions_one_hot = actions_one_hot.scatter_(1, torch.LongTensor(actions), 1)\n",
        "        selected_action_values = torch.sum(self.predict(states) * actions_one_hot, dim=1)\n",
        "        actual_values = torch.FloatTensor(actual_values)\n",
        "\n",
        "        self.optimizer.zero_grad()\n",
        "        loss = self.criterion(selected_action_values, actual_values)\n",
        "        loss.backward()\n",
        "        self.optimizer.step()\n",
        "\n",
        "    # Get an action by using epsilon-greedy\n",
        "    def get_action(self, state, epsilon):\n",
        "        if np.random.random() < epsilon:\n",
        "            return int(np.random.choice([c for c in range(self.num_actions) if state.board[c] == 0]))\n",
        "        else:\n",
        "            prediction = self.predict(np.atleast_2d(self.preprocess(state)))[0].detach().numpy()\n",
        "            for i in range(self.num_actions):\n",
        "                if state.board[i] != 0:\n",
        "                    prediction[i] = -1e7\n",
        "            return int(np.argmax(prediction))\n",
        "\n",
        "    # Method used to manage the buffer\n",
        "    def add_experience(self, exp):\n",
        "        if len(self.experience['s']) >= self.max_experiences:\n",
        "            for key in self.experience.keys():\n",
        "                self.experience[key].pop(0)\n",
        "        for key, value in exp.items():\n",
        "            self.experience[key].append(value)\n",
        "\n",
        "    def copy_weights(self, TrainNet):\n",
        "        self.model.load_state_dict(TrainNet.state_dict())\n",
        "\n",
        "    def save_weights(self, path):\n",
        "        torch.save(self.model.state_dict(), path)\n",
        "\n",
        "    def load_weights(self, path):\n",
        "        self.model.load_state_dict(torch.load(path))\n",
        "    \n",
        "    # Each state will consist of the board and the mark\n",
        "    # in the observations\n",
        "    def preprocess(self, state):\n",
        "        result = state.board[:]\n",
        "        result.append(state.mark)\n",
        "\n",
        "        return result"
      ],
      "execution_count": 0,
      "outputs": []
    },
    {
      "cell_type": "code",
      "metadata": {
        "id": "DP1_DY6HhHbO",
        "colab_type": "code",
        "colab": {}
      },
      "source": [
        "def play_game(env, TrainNet, TargetNet, epsilon, copy_step):\n",
        "    rewards = 0\n",
        "    iter = 0\n",
        "    done = False\n",
        "    observations = env.reset()\n",
        "    while not done:\n",
        "        # Using epsilon-greedy to get an action\n",
        "        action = TrainNet.get_action(observations, epsilon)\n",
        "\n",
        "        # Caching the information of current state\n",
        "        prev_observations = observations\n",
        "\n",
        "        # Take action\n",
        "        observations, reward, done, _ = env.step(action)\n",
        "\n",
        "        # Apply new rules\n",
        "        if done:\n",
        "            if reward == 1: # Won\n",
        "                reward = 20\n",
        "            elif reward == 0: # Lost\n",
        "                reward = -20\n",
        "            else: # Draw\n",
        "                reward = 10\n",
        "        else:\n",
        "#             reward = -0.05 # Try to prevent the agent from taking a long move\n",
        "\n",
        "            # Try to promote the agent to \"struggle\" when playing against negamax agent\n",
        "            # as Magolor's (@magolor) idea\n",
        "            reward = 0.5\n",
        "\n",
        "        rewards += reward\n",
        "\n",
        "        # Adding experience into buffer\n",
        "        exp = {'s': prev_observations, 'a': action, 'r': reward, 's2': observations, 'done': done}\n",
        "        TrainNet.add_experience(exp)\n",
        "\n",
        "        # Train the training model by using experiences in buffer and the target model\n",
        "        TrainNet.train(TargetNet)\n",
        "        iter += 1\n",
        "        if iter % copy_step == 0:\n",
        "            # Update the weights of the target model when reaching enough \"copy step\"\n",
        "            TargetNet.copy_weights(TrainNet)\n",
        "    return rewards"
      ],
      "execution_count": 0,
      "outputs": []
    },
    {
      "cell_type": "code",
      "metadata": {
        "id": "gW1MUzHthMRt",
        "colab_type": "code",
        "colab": {}
      },
      "source": [
        "env = ConnectX()"
      ],
      "execution_count": 0,
      "outputs": []
    },
    {
      "cell_type": "code",
      "metadata": {
        "id": "HzjCxPE1hPCS",
        "colab_type": "code",
        "colab": {}
      },
      "source": [
        "gamma = 0.99\n",
        "copy_step = 25\n",
        "hidden_units = [100, 200, 200, 100]\n",
        "max_experiences = 10000\n",
        "min_experiences = 100\n",
        "batch_size = 32\n",
        "lr = 1e-2\n",
        "epsilon = 0.5\n",
        "decay = 0.9999\n",
        "min_epsilon = 0.1\n",
        "episodes = 16000\n",
        "\n",
        "precision = 7"
      ],
      "execution_count": 0,
      "outputs": []
    },
    {
      "cell_type": "code",
      "metadata": {
        "id": "51eNBaFthSIh",
        "colab_type": "code",
        "colab": {}
      },
      "source": [
        "num_states = env.observation_space.n + 1\n",
        "num_actions = env.action_space.n\n",
        "\n",
        "all_total_rewards = np.empty(episodes)\n",
        "all_avg_rewards = np.empty(episodes) # Last 100 steps\n",
        "all_epsilons = np.empty(episodes)\n",
        "\n",
        "# Initialize models\n",
        "TrainNet = DQN(num_states, num_actions, hidden_units, gamma, max_experiences, min_experiences, batch_size, lr)\n",
        "TargetNet = DQN(num_states, num_actions, hidden_units, gamma, max_experiences, min_experiences, batch_size, lr)"
      ],
      "execution_count": 0,
      "outputs": []
    },
    {
      "cell_type": "code",
      "metadata": {
        "id": "dxcFytVnhVhR",
        "colab_type": "code",
        "colab": {
          "base_uri": "https://localhost:8080/",
          "height": 34
        },
        "outputId": "4ce0a3a3-55ea-46bc-82b5-895a34794854"
      },
      "source": [
        "pbar = tqdm(range(episodes))\n",
        "for n in pbar:\n",
        "    epsilon = max(min_epsilon, epsilon * decay)\n",
        "    total_reward = play_game(env, TrainNet, TargetNet, epsilon, copy_step)\n",
        "    all_total_rewards[n] = total_reward\n",
        "    avg_reward = all_total_rewards[max(0, n - 100):(n + 1)].mean()\n",
        "    all_avg_rewards[n] = avg_reward\n",
        "    all_epsilons[n] = epsilon\n",
        "\n",
        "    pbar.set_postfix({\n",
        "        'episode reward': total_reward,\n",
        "        'avg (100 last) reward': avg_reward,\n",
        "        'epsilon': epsilon\n",
        "    })"
      ],
      "execution_count": 8,
      "outputs": [
        {
          "output_type": "stream",
          "text": [
            "100%|██████████| 16000/16000 [3:29:44<00:00,  1.33it/s, episode reward=-13.5, avg (100 last) reward=-14.5, epsilon=0.101]\n"
          ],
          "name": "stderr"
        }
      ]
    },
    {
      "cell_type": "code",
      "metadata": {
        "id": "lKqYkKgTV8Jj",
        "colab_type": "code",
        "colab": {
          "base_uri": "https://localhost:8080/",
          "height": 279
        },
        "outputId": "9371570d-165d-499f-9fab-c4f5c3e6e07e"
      },
      "source": [
        "plt.plot(all_avg_rewards)\n",
        "plt.xlabel('Episode')\n",
        "plt.ylabel('Avg rewards (100)')\n",
        "plt.show()"
      ],
      "execution_count": 9,
      "outputs": [
        {
          "output_type": "display_data",
          "data": {
            "image/png": "[encoded data removed]",
            "text/plain": [
              "<Figure size 432x288 with 1 Axes>"
            ]
          },
          "metadata": {
            "tags": []
          }
        }
      ]
    },
    {
      "cell_type": "code",
      "metadata": {
        "id": "ntj3sVMpWHTI",
        "colab_type": "code",
        "colab": {
          "base_uri": "https://localhost:8080/",
          "height": 279
        },
        "outputId": "6ae2f4e3-f160-4fe8-e005-1479ca5ec3ab"
      },
      "source": [
        "plt.plot(all_epsilons)\n",
        "plt.xlabel('Episode')\n",
        "plt.ylabel('Epsilon')\n",
        "plt.show()"
      ],
      "execution_count": 10,
      "outputs": [
        {
          "output_type": "display_data",
          "data": {
            "image/png": "[encoded data removed]",
            "text/plain": [
              "<Figure size 432x288 with 1 Axes>"
            ]
          },
          "metadata": {
            "tags": []
          }
        }
      ]
    },
    {
      "cell_type": "code",
      "metadata": {
        "id": "xb5LA0KPWMlb",
        "colab_type": "code",
        "colab": {}
      },
      "source": [
        "TrainNet.save_weights('./weights.pth')"
      ],
      "execution_count": 0,
      "outputs": []
    },
    {
      "cell_type": "code",
      "metadata": {
        "id": "ngRrSM4xWSgf",
        "colab_type": "code",
        "colab": {}
      },
      "source": [
        "fc_layers = []\n",
        "\n",
        "# Get all hidden layers' weights\n",
        "for i in range(len(hidden_units)):\n",
        "    fc_layers.extend([\n",
        "        TrainNet.model.hidden_layers[i].weight.T.tolist(), # weights\n",
        "        TrainNet.model.hidden_layers[i].bias.tolist() # bias\n",
        "    ])\n",
        "\n",
        "# Get output layer's weights\n",
        "fc_layers.extend([\n",
        "    TrainNet.model.output_layer.weight.T.tolist(), # weights\n",
        "    TrainNet.model.output_layer.bias.tolist() # bias\n",
        "])\n",
        "\n",
        "# Convert all layers into usable form before integrating to final agent\n",
        "fc_layers = list(map(\n",
        "    lambda x: str(list(np.round(x, precision))) \\\n",
        "        .replace('array(', '').replace(')', '') \\\n",
        "        .replace(' ', '') \\\n",
        "        .replace('\\n', ''),\n",
        "    fc_layers\n",
        "))\n",
        "fc_layers = np.reshape(fc_layers, (-1, 2))\n",
        "\n",
        "# Create the agent\n",
        "my_agent = '''def my_agent(observation, configuration):\n",
        "    import numpy as np\n",
        "\n",
        "'''\n",
        "\n",
        "# Write hidden layers\n",
        "for i, (w, b) in enumerate(fc_layers[:-1]):\n",
        "    my_agent += '    hl{}_w = np.array({}, dtype=np.float32)\\n'.format(i+1, w)\n",
        "    my_agent += '    hl{}_b = np.array({}, dtype=np.float32)\\n'.format(i+1, b)\n",
        "# Write output layer\n",
        "my_agent += '    ol_w = np.array({}, dtype=np.float32)\\n'.format(fc_layers[-1][0])\n",
        "my_agent += '    ol_b = np.array({}, dtype=np.float32)\\n'.format(fc_layers[-1][1])\n",
        "\n",
        "my_agent += '''\n",
        "    state = observation.board[:]\n",
        "    state.append(observation.mark)\n",
        "    out = np.array(state, dtype=np.float32)\n",
        "\n",
        "'''\n",
        "\n",
        "# Calculate hidden layers\n",
        "for i in range(len(fc_layers[:-1])):\n",
        "    my_agent += '    out = np.matmul(out, hl{0}_w) + hl{0}_b\\n'.format(i+1)\n",
        "    my_agent += '    out = 1/(1 + np.exp(-out))\\n' # Sigmoid function\n",
        "# Calculate output layer\n",
        "my_agent += '    out = np.matmul(out, ol_w) + ol_b\\n'\n",
        "\n",
        "my_agent += '''\n",
        "    for i in range(configuration.columns):\n",
        "        if observation.board[i] != 0:\n",
        "            out[i] = -1e7\n",
        "\n",
        "    return int(np.argmax(out))\n",
        "    '''"
      ],
      "execution_count": 0,
      "outputs": []
    },
    {
      "cell_type": "code",
      "metadata": {
        "id": "jOAq1wsvWZPM",
        "colab_type": "code",
        "colab": {}
      },
      "source": [
        "with open('submission.py', 'w') as f:\n",
        "    f.write(my_agent)"
      ],
      "execution_count": 0,
      "outputs": []
    },
    {
      "cell_type": "code",
      "metadata": {
        "id": "M9r3bgduWeoS",
        "colab_type": "code",
        "colab": {}
      },
      "source": [
        "from submission import my_agent"
      ],
      "execution_count": 0,
      "outputs": []
    },
    {
      "cell_type": "code",
      "metadata": {
        "id": "dUUzuLRpWiVA",
        "colab_type": "code",
        "colab": {
          "base_uri": "https://localhost:8080/",
          "height": 85
        },
        "outputId": "e9198669-0557-40f0-b567-034f4c2a83e5"
      },
      "source": [
        "def mean_reward(rewards):\n",
        "    return sum(r[0] for r in rewards) / sum(r[0] + r[1] for r in rewards)\n",
        "\n",
        "# Run multiple episodes to estimate agent's performance.\n",
        "print(\"My Agent vs. Random Agent:\", mean_reward(evaluate(\"connectx\", [my_agent, \"random\"], num_episodes=10)))\n",
        "print(\"My Agent vs. Negamax Agent:\", mean_reward(evaluate(\"connectx\", [my_agent, \"negamax\"], num_episodes=10)))\n",
        "print(\"Random Agent vs. My Agent:\", mean_reward(evaluate(\"connectx\", [\"random\", my_agent], num_episodes=10)))\n",
        "print(\"Negamax Agent vs. My Agent:\", mean_reward(evaluate(\"connectx\", [\"negamax\", my_agent], num_episodes=10)))"
      ],
      "execution_count": 15,
      "outputs": [
        {
          "output_type": "stream",
          "text": [
            "My Agent vs. Random Agent: 1.0\n",
            "My Agent vs. Negamax Agent: 0.0\n",
            "Random Agent vs. My Agent: 0.4\n",
            "Negamax Agent vs. My Agent: 1.0\n"
          ],
          "name": "stdout"
        }
      ]
    }
  ]
}